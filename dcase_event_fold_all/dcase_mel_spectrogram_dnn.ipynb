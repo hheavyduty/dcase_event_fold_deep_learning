{
 "cells": [
  {
   "cell_type": "code",
   "execution_count": 21,
   "metadata": {
    "collapsed": true
   },
   "outputs": [],
   "source": [
    "from os import listdir\n",
    "import os\n",
    "import keras\n",
    "from os.path import isfile, join\n",
    "import librosa\n",
    "import numpy as np\n",
    "from keras.models import Sequential\n",
    "from keras.layers import Dense,Flatten,Conv1D,MaxPooling1D,Dropout\n",
    "import pandas as pd\n",
    "#data_class=np.loadtxt(r\"C:\\Users\\USER\\Desktop\\labels.txt\",delimiter=',')\n",
    "from sklearn.preprocessing import LabelEncoder,OneHotEncoder\n",
    "from keras.utils import np_utils   "
   ]
  },
  {
   "cell_type": "code",
   "execution_count": 22,
   "metadata": {},
   "outputs": [
    {
     "name": "stdout",
     "output_type": "stream",
     "text": [
      "5\n"
     ]
    }
   ],
   "source": [
    "def _extract_segments(clip, filename):\n",
    "    #clip, filename = args\n",
    "\n",
    "    # Due to an off-by-one bug which has not been caught earlier,\n",
    "    # actually both variants (long and short) use the same\n",
    "    # overlap setting (half of window size) - whereas different settings\n",
    "    # were mentioned in the paper.\n",
    "    #\n",
    "    # The code below has been already cleaned up to reflect those changes.\n",
    "    #\n",
    "    # Apart from that, for reproducibility purposes it is required that\n",
    "    # librosa v0.3.1 is used, as further versions drastically change\n",
    "    # the delta computations.\n",
    "    \n",
    "    FRAMES_PER_SEGMENT = 2  # 41 frames ~= 950 ms segment length @ 22050 Hz\n",
    "    WINDOW_SIZE = 512 * 2  # 23 ms per frame @ 22050 Hz\n",
    "    STEP_SIZE = 512 * 2 // 2\n",
    "    BANDS = 40\n",
    "    #sum=np.zeros(60,41)\n",
    "    \n",
    "    s = 0\n",
    "    segments = []\n",
    "    logspec=[]\n",
    "    logspec=np.array(logspec)\n",
    "\n",
    "    normalization_factor = 1 / np.max(np.abs(clip)) \n",
    "    clip = clip * normalization_factor\n",
    "\n",
    "    while len(clip[s * STEP_SIZE:s * STEP_SIZE + WINDOW_SIZE]) == WINDOW_SIZE:\n",
    "        signal = clip[s * STEP_SIZE:s * STEP_SIZE + WINDOW_SIZE]\n",
    "\n",
    "        melspec = librosa.feature.melspectrogram(signal, sr=22050, n_fft=1024, hop_length=512, n_mels=BANDS)\n",
    "        #logspec = librosa.logamplitude(melspec)\n",
    "        #melspec = melspec.T.flatten()[:, np.newaxis].T\n",
    "        #melspec = pd.DataFrame(data=melspec, dtype='float32', index=[0], columns=list('logspec_b{}_f{}'.format(i % BANDS, i / BANDS) for i in range(np.shape(logspec)[1])))\n",
    "\n",
    "        #if np.mean(logspec.as_matrix()) > -70.0:   # drop silent frames\n",
    "        #segment_meta = pd.DataFrame({'filename': filename,\n",
    "                                        #'s_begin': s * STEP_SIZE, 's_end': s * STEP_SIZE + WINDOW_SIZE,}, index=[0])\n",
    "        #segments.append(pd.concat((segment_meta, logspec), axis=1))\n",
    "        segments.append(melspec)\n",
    "        s = s + 1\n",
    "    #for i in range(s-1):\n",
    "        #sum=sum+segments(i,:,:)\n",
    "    #segments=sum/s-1\n",
    "    segments=np.mean(segments,axis=0) \n",
    "    segments=segments.flatten()\n",
    "    #segments = pd.concat(segments, ignore_index=True)\n",
    "    #libc.malloc_trim(0)\n",
    "    return segments\n",
    "print(5)"
   ]
  },
  {
   "cell_type": "code",
   "execution_count": 23,
   "metadata": {},
   "outputs": [
    {
     "data": {
      "text/plain": [
       "(20, 120)"
      ]
     },
     "execution_count": 23,
     "metadata": {},
     "output_type": "execute_result"
    }
   ],
   "source": [
    "dataclass=[]\n",
    "dataclass1=[]\n",
    "dataclass2=[]\n",
    "dataclass3=[]\n",
    "dataclass4=[]\n",
    "dataclass5=[]\n",
    "fold1=[]\n",
    "fold2=[]\n",
    "fold3=[]\n",
    "fold4=[]\n",
    "fold5=[]\n",
    "onlyfiles1 = [f for f in listdir(r\"C:\\internship\\dcase-event-fold\\alert\")if isfile(join(r\"C:\\internship\\dcase-event-fold\\alert\", f))]\n",
    "raw_sounds1 = []\n",
    "for i in range(len(onlyfiles1)):\n",
    "    X1,sr1=librosa.load( os.path.join(r\"C:\\internship\\dcase-event-fold\\alert\",onlyfiles1[i]))\n",
    "    me1=_extract_segments(X1,onlyfiles1[i])\n",
    "    #me1 = np.mean(librosa.feature.melspectrogram(y=X1, sr=sr1, n_mels=40).T,axis=0)\n",
    "    raw_sounds1.append(me1)\n",
    "    dataclass.append(1)\n",
    "raw_sounds1=np.array(raw_sounds1)\n",
    "#print(onlyfiles1) \n",
    "#onlyfiles1[1][2]\n",
    "#print(len(raw_sounds1[0])) \n",
    "for i in range(len(onlyfiles1)):\n",
    "    if(onlyfiles1[i][3]=='1'):\n",
    "        fold1.append(raw_sounds1[i])\n",
    "        dataclass1.append(1)\n",
    "    elif(onlyfiles1[i][3]=='2'):\n",
    "        fold2.append(raw_sounds1[i])\n",
    "        dataclass2.append(1)\n",
    "    elif(onlyfiles1[i][3]=='3'):\n",
    "        fold3.append(raw_sounds1[i])\n",
    "        dataclass3.append(1)\n",
    "    elif(onlyfiles1[i][3]=='4'):\n",
    "        fold4.append(raw_sounds1[i])\n",
    "        dataclass4.append(1)\n",
    "    elif(onlyfiles1[i][3]=='5'):\n",
    "        fold5.append(raw_sounds1[i])\n",
    "        dataclass5.append(1)\n",
    "\n",
    "#print(len(dataclass1))        \n",
    "#fold2=np.array(fold2)\n",
    "#print(fold2.shape)\n",
    "#fold3=np.array(fold3)\n",
    "#print(fold3.shape)\n",
    "raw_sounds1.shape                            \n",
    "    "
   ]
  },
  {
   "cell_type": "code",
   "execution_count": 24,
   "metadata": {},
   "outputs": [
    {
     "data": {
      "text/plain": [
       "(20, 120)"
      ]
     },
     "execution_count": 24,
     "metadata": {},
     "output_type": "execute_result"
    }
   ],
   "source": [
    "onlyfiles2 = [f for f in listdir(r\"C:\\internship\\dcase-event-fold\\clearthroat\") if isfile(join(r\"C:\\internship\\dcase-event-fold\\clearthroat\", f))]\n",
    "raw_sounds2 = []\n",
    "for i in range(len(onlyfiles2)):\n",
    "    X2,sr2=librosa.load( os.path.join(r\"C:\\internship\\dcase-event-fold\\clearthroat\",onlyfiles2[i]))\n",
    "    me2=_extract_segments(X2,onlyfiles2[i])\n",
    "    #me2 = np.mean(librosa.feature.melspectrogram(y=X2, sr=sr2, n_mels=40).T,axis=0)\n",
    "    raw_sounds2.append(me2)\n",
    "    dataclass.append(2)\n",
    "raw_sounds2=np.array(raw_sounds2)\n",
    "for i in range(len(onlyfiles2)):\n",
    "    if(onlyfiles2[i][3]=='1'):\n",
    "        fold1.append(raw_sounds2[i])\n",
    "        dataclass1.append(2)\n",
    "    elif(onlyfiles2[i][3]=='2'):\n",
    "        fold2.append(raw_sounds2[i])\n",
    "        dataclass2.append(2)\n",
    "    elif(onlyfiles2[i][3]=='3'):\n",
    "        fold3.append(raw_sounds2[i])\n",
    "        dataclass3.append(2)\n",
    "    elif(onlyfiles2[i][3]=='4'):\n",
    "        fold4.append(raw_sounds2[i])\n",
    "        dataclass4.append(2)\n",
    "    elif(onlyfiles2[i][3]=='5'):\n",
    "        fold5.append(raw_sounds2[i])\n",
    "        dataclass5.append(2)\n",
    "\n",
    "#print(len(dataclass1))\n",
    "raw_sounds2.shape        \n",
    "    \n",
    "\n"
   ]
  },
  {
   "cell_type": "code",
   "execution_count": 25,
   "metadata": {},
   "outputs": [
    {
     "data": {
      "text/plain": [
       "(20, 120)"
      ]
     },
     "execution_count": 25,
     "metadata": {},
     "output_type": "execute_result"
    }
   ],
   "source": [
    "onlyfiles3 = [f for f in listdir(r\"C:\\internship\\dcase-event-fold\\cough\") if isfile(join(r\"C:\\internship\\dcase-event-fold\\cough\", f))]\n",
    "raw_sounds3= []\n",
    "for i in range(len(onlyfiles3)):\n",
    "    X3,sr3=librosa.load( os.path.join(r\"C:\\internship\\dcase-event-fold\\cough\",onlyfiles3[i]))\n",
    "    me3=_extract_segments(X3,onlyfiles3[i])\n",
    "    #me3 = np.mean(librosa.feature.melspectrogram(y=X3, sr=sr3, n_mels=40).T,axis=0)\n",
    "    raw_sounds3.append(me3)\n",
    "    dataclass.append(3)\n",
    "raw_sounds3=np.array(raw_sounds3)\n",
    "for i in range(len(onlyfiles3)):\n",
    "    if(onlyfiles3[i][3]=='1'):\n",
    "        fold1.append(raw_sounds3[i])\n",
    "        dataclass1.append(3)\n",
    "    elif(onlyfiles3[i][3]=='2'):\n",
    "        fold2.append(raw_sounds3[i])\n",
    "        dataclass2.append(3)\n",
    "    elif(onlyfiles3[i][3]=='3'):\n",
    "        fold3.append(raw_sounds3[i])\n",
    "        dataclass3.append(3)\n",
    "    elif(onlyfiles3[i][3]=='4'):\n",
    "        fold4.append(raw_sounds3[i])\n",
    "        dataclass4.append(3)\n",
    "    elif(onlyfiles3[i][3]=='5'):\n",
    "        fold5.append(raw_sounds3[i])\n",
    "        dataclass5.append(3)\n",
    "raw_sounds3.shape "
   ]
  },
  {
   "cell_type": "code",
   "execution_count": 26,
   "metadata": {},
   "outputs": [
    {
     "data": {
      "text/plain": [
       "(20, 120)"
      ]
     },
     "execution_count": 26,
     "metadata": {},
     "output_type": "execute_result"
    }
   ],
   "source": [
    "onlyfiles4 = [f for f in listdir(r\"C:\\internship\\dcase-event-fold\\doorslam\") if isfile(join(r\"C:\\internship\\dcase-event-fold\\doorslam\", f))]\n",
    "raw_sounds4= []\n",
    "for i in range(len(onlyfiles4)):\n",
    "    X4,sr4=librosa.load( os.path.join(r\"C:\\internship\\dcase-event-fold\\doorslam\",onlyfiles4[i]))\n",
    "    me4=_extract_segments(X4,onlyfiles4[i])\n",
    "    #me4 = np.mean(librosa.feature.melspectrogram(y=X4, sr=sr4, n_mels=40).T,axis=0)\n",
    "    raw_sounds4.append(me4)\n",
    "    dataclass.append(4)\n",
    "raw_sounds4=np.array(raw_sounds4)\n",
    "for i in range(len(onlyfiles4)):\n",
    "    if(onlyfiles4[i][3]=='1'):\n",
    "        fold1.append(raw_sounds4[i])\n",
    "        dataclass1.append(4)\n",
    "    elif(onlyfiles4[i][3]=='2'):\n",
    "        fold2.append(raw_sounds4[i])\n",
    "        dataclass2.append(4)\n",
    "    elif(onlyfiles4[i][3]=='3'):\n",
    "        fold3.append(raw_sounds4[i])\n",
    "        dataclass3.append(4)\n",
    "    elif(onlyfiles4[i][3]=='4'):\n",
    "        fold4.append(raw_sounds4[i])\n",
    "        dataclass4.append(4)\n",
    "    elif(onlyfiles4[i][3]=='5'):\n",
    "        fold5.append(raw_sounds4[i])\n",
    "        dataclass5.append(4)\n",
    "#print(len(dataclass1))\n",
    "raw_sounds4.shape \n"
   ]
  },
  {
   "cell_type": "code",
   "execution_count": 27,
   "metadata": {},
   "outputs": [
    {
     "data": {
      "text/plain": [
       "(20, 120)"
      ]
     },
     "execution_count": 27,
     "metadata": {},
     "output_type": "execute_result"
    }
   ],
   "source": [
    "onlyfiles5 = [f for f in listdir(r\"C:\\internship\\dcase-event-fold\\drawer\") if isfile(join(r\"C:\\internship\\dcase-event-fold\\drawer\", f))]\n",
    "raw_sounds5= []\n",
    "for i in range(len(onlyfiles5)):\n",
    "    X5,sr5=librosa.load( os.path.join(r\"C:\\internship\\dcase-event-fold\\drawer\",onlyfiles5[i]))\n",
    "    me5=_extract_segments(X5,onlyfiles5[i])\n",
    "    #me5 = np.mean(librosa.feature.melspectrogram(y=X5, sr=sr5, n_mels=40).T,axis=0)\n",
    "    raw_sounds5.append(me5)\n",
    "    dataclass.append(5)\n",
    "raw_sounds5=np.array(raw_sounds5)\n",
    "for i in range(len(onlyfiles3)):\n",
    "    if(onlyfiles5[i][3]=='1'):\n",
    "        fold1.append(raw_sounds5[i])\n",
    "        dataclass1.append(5)\n",
    "    elif(onlyfiles5[i][3]=='2'):\n",
    "        fold2.append(raw_sounds5[i])\n",
    "        dataclass2.append(5)\n",
    "    elif(onlyfiles5[i][3]=='3'):\n",
    "        fold3.append(raw_sounds5[i])\n",
    "        dataclass3.append(5)\n",
    "    elif(onlyfiles5[i][3]=='4'):\n",
    "        fold4.append(raw_sounds5[i])\n",
    "        dataclass4.append(5)\n",
    "    elif(onlyfiles5[i][3]=='5'):\n",
    "        fold5.append(raw_sounds5[i])\n",
    "        dataclass5.append(5)\n",
    "raw_sounds5.shape \n"
   ]
  },
  {
   "cell_type": "code",
   "execution_count": 28,
   "metadata": {},
   "outputs": [
    {
     "data": {
      "text/plain": [
       "(20, 120)"
      ]
     },
     "execution_count": 28,
     "metadata": {},
     "output_type": "execute_result"
    }
   ],
   "source": [
    "onlyfiles6 = [f for f in listdir(r\"C:\\internship\\dcase-event-fold\\keyboard\") if isfile(join(r\"C:\\internship\\dcase-event-fold\\keyboard\", f))]\n",
    "raw_sounds6= []\n",
    "for i in range(len(onlyfiles6)):\n",
    "    X6,sr6=librosa.load( os.path.join(r\"C:\\internship\\dcase-event-fold\\keyboard\",onlyfiles6[i]))\n",
    "    me6=_extract_segments(X6,onlyfiles6[i])\n",
    "    #me6 = np.mean(librosa.feature.melspectrogram(y=X6, sr=sr6, n_mels=40).T,axis=0)\n",
    "    raw_sounds6.append(me6)\n",
    "    dataclass.append(6)\n",
    "raw_sounds6=np.array(raw_sounds6)\n",
    "for i in range(len(onlyfiles6)):\n",
    "    if(onlyfiles6[i][3]=='1'):\n",
    "        fold1.append(raw_sounds6[i])\n",
    "        dataclass1.append(6)\n",
    "    elif(onlyfiles6[i][3]=='2'):\n",
    "        fold2.append(raw_sounds6[i])\n",
    "        dataclass2.append(6)\n",
    "    elif(onlyfiles6[i][3]=='3'):\n",
    "        fold3.append(raw_sounds6[i])\n",
    "        dataclass3.append(6)\n",
    "    elif(onlyfiles6[i][3]=='4'):\n",
    "        fold4.append(raw_sounds6[i])\n",
    "        dataclass4.append(6)\n",
    "    elif(onlyfiles6[i][3]=='5'):\n",
    "        fold5.append(raw_sounds6[i])\n",
    "        dataclass5.append(6)\n",
    "\n",
    "raw_sounds6.shape \n"
   ]
  },
  {
   "cell_type": "code",
   "execution_count": 29,
   "metadata": {},
   "outputs": [
    {
     "data": {
      "text/plain": [
       "(20, 120)"
      ]
     },
     "execution_count": 29,
     "metadata": {},
     "output_type": "execute_result"
    }
   ],
   "source": [
    "onlyfiles7 = [f for f in listdir(r\"C:\\internship\\dcase-event-fold\\keys\") if isfile(join(r\"C:\\internship\\dcase-event-fold\\keys\", f))]\n",
    "raw_sounds7= []\n",
    "for i in range(len(onlyfiles7)):\n",
    "    X7,sr7=librosa.load( os.path.join(r\"C:\\internship\\dcase-event-fold\\keys\",onlyfiles7[i]))\n",
    "    me7=_extract_segments(X7,onlyfiles7[i])\n",
    "    #me7 = np.mean(librosa.feature.mfcc(y=X7, sr=sr7, n_mfcc=40).T,axis=0)\n",
    "    raw_sounds7.append(me7)\n",
    "    dataclass.append(7)\n",
    "raw_sounds7=np.array(raw_sounds7)\n",
    "for i in range(len(onlyfiles7)):\n",
    "    if(onlyfiles7[i][3]=='1'):\n",
    "        fold1.append(raw_sounds7[i])\n",
    "        dataclass1.append(7)\n",
    "    elif(onlyfiles7[i][3]=='2'):\n",
    "        fold2.append(raw_sounds7[i])\n",
    "        dataclass2.append(7)\n",
    "    elif(onlyfiles7[i][3]=='3'):\n",
    "        fold3.append(raw_sounds7[i])\n",
    "        dataclass3.append(7)\n",
    "    elif(onlyfiles7[i][3]=='4'):\n",
    "        fold4.append(raw_sounds7[i])\n",
    "        dataclass4.append(7)\n",
    "    elif(onlyfiles7[i][3]=='5'):\n",
    "        fold5.append(raw_sounds7[i])\n",
    "        dataclass5.append(7)\n",
    "raw_sounds7.shape \n"
   ]
  },
  {
   "cell_type": "code",
   "execution_count": 30,
   "metadata": {},
   "outputs": [
    {
     "data": {
      "text/plain": [
       "(20, 120)"
      ]
     },
     "execution_count": 30,
     "metadata": {},
     "output_type": "execute_result"
    }
   ],
   "source": [
    "onlyfiles8 = [f for f in listdir(r\"C:\\internship\\dcase-event-fold\\knock\") if isfile(join(r\"C:\\internship\\dcase-event-fold\\knock\", f))]\n",
    "raw_sounds8= []\n",
    "for i in range(len(onlyfiles8)):\n",
    "    X8,sr8=librosa.load( os.path.join(r\"C:\\internship\\dcase-event-fold\\knock\",onlyfiles8[i]))\n",
    "    me8=_extract_segments(X8,onlyfiles8[i])\n",
    "    #me8 = np.mean(librosa.feature.melspectrogram(y=X8, sr=sr8, n_mels=40).T,axis=0)\n",
    "    raw_sounds8.append(me8)\n",
    "    dataclass.append(8)\n",
    "raw_sounds8=np.array(raw_sounds8)\n",
    "for i in range(len(onlyfiles8)):\n",
    "    if(onlyfiles8[i][3]=='1'):\n",
    "        fold1.append(raw_sounds8[i])\n",
    "        dataclass1.append(8)\n",
    "    elif(onlyfiles8[i][3]=='2'):\n",
    "        fold2.append(raw_sounds8[i])\n",
    "        dataclass2.append(8)\n",
    "    elif(onlyfiles8[i][3]=='3'):\n",
    "        fold3.append(raw_sounds8[i])\n",
    "        dataclass3.append(8)\n",
    "    elif(onlyfiles8[i][3]=='4'):\n",
    "        fold4.append(raw_sounds8[i])\n",
    "        dataclass4.append(8)\n",
    "    elif(onlyfiles8[i][3]=='5'):\n",
    "        fold5.append(raw_sounds8[i])\n",
    "        dataclass5.append(8)\n",
    "raw_sounds8.shape \n"
   ]
  },
  {
   "cell_type": "code",
   "execution_count": 31,
   "metadata": {},
   "outputs": [
    {
     "data": {
      "text/plain": [
       "(20, 120)"
      ]
     },
     "execution_count": 31,
     "metadata": {},
     "output_type": "execute_result"
    }
   ],
   "source": [
    "onlyfiles9 = [f for f in listdir(r\"C:\\internship\\dcase-event-fold\\laughter\") if isfile(join(r\"C:\\internship\\dcase-event-fold\\laughter\", f))]\n",
    "raw_sounds9= []\n",
    "for i in range(len(onlyfiles9)):\n",
    "    X9,sr9=librosa.load( os.path.join(r\"C:\\internship\\dcase-event-fold\\laughter\",onlyfiles9[i]))\n",
    "    me9=_extract_segments(X9,onlyfiles9[i])\n",
    "    #me9 = np.mean(librosa.feature.mfcc(y=X9, sr=sr9, n_mfcc=40).T,axis=0)\n",
    "    raw_sounds9.append(me9)\n",
    "    dataclass.append(9)\n",
    "raw_sounds9=np.array(raw_sounds9)\n",
    "for i in range(len(onlyfiles9)):\n",
    "    if(onlyfiles9[i][3]=='1'):\n",
    "        fold1.append(raw_sounds9[i])\n",
    "        dataclass1.append(9)\n",
    "    elif(onlyfiles9[i][3]=='2'):\n",
    "        fold2.append(raw_sounds9[i])\n",
    "        dataclass2.append(9)\n",
    "    elif(onlyfiles9[i][3]=='3'):\n",
    "        fold3.append(raw_sounds9[i])\n",
    "        dataclass3.append(9)\n",
    "    elif(onlyfiles9[i][3]=='4'):\n",
    "        fold4.append(raw_sounds9[i])\n",
    "        dataclass4.append(9)\n",
    "    elif(onlyfiles9[i][3]=='5'):\n",
    "        fold5.append(raw_sounds9[i])\n",
    "        dataclass5.append(9)\n",
    "\n",
    "raw_sounds9.shape "
   ]
  },
  {
   "cell_type": "code",
   "execution_count": 32,
   "metadata": {},
   "outputs": [
    {
     "data": {
      "text/plain": [
       "(20, 120)"
      ]
     },
     "execution_count": 32,
     "metadata": {},
     "output_type": "execute_result"
    }
   ],
   "source": [
    "onlyfiles10 = [f for f in listdir(r\"C:\\internship\\dcase-event-fold\\mouse\") if isfile(join(r\"C:\\internship\\dcase-event-fold\\mouse\", f))]\n",
    "raw_sounds10= []\n",
    "for i in range(len(onlyfiles10)):\n",
    "    X10,sr10=librosa.load(os.path.join(r\"C:\\internship\\dcase-event-fold\\mouse\",onlyfiles10[i]))\n",
    "    me10=_extract_segments(X10,onlyfiles10[i])\n",
    "    #me10 = np.mean(librosa.feature.melspectrogram(y=X10, sr=sr10, n_mels=40).T,axis=0)\n",
    "    raw_sounds10.append(me10)\n",
    "    dataclass.append(10)\n",
    "               \n",
    "raw_sounds10=np.array(raw_sounds10)\n",
    "for i in range(len(onlyfiles10)):\n",
    "    if(onlyfiles10[i][3]=='1'):\n",
    "        fold1.append(raw_sounds10[i])\n",
    "        dataclass1.append(10)\n",
    "    elif(onlyfiles10[i][3]=='2'):\n",
    "        fold2.append(raw_sounds10[i])\n",
    "        dataclass2.append(10)\n",
    "    elif(onlyfiles10[i][3]=='3'):\n",
    "        fold3.append(raw_sounds10[i])\n",
    "        dataclass3.append(10)\n",
    "    elif(onlyfiles10[i][3]=='4'):\n",
    "        fold4.append(raw_sounds10[i])\n",
    "        dataclass4.append(10)\n",
    "    elif(onlyfiles10[i][3]=='5'):\n",
    "        fold5.append(raw_sounds10[i])\n",
    "        dataclass5.append(10)\n",
    "        \n",
    "raw_sounds10.shape \n"
   ]
  },
  {
   "cell_type": "code",
   "execution_count": 33,
   "metadata": {},
   "outputs": [
    {
     "data": {
      "text/plain": [
       "(20, 120)"
      ]
     },
     "execution_count": 33,
     "metadata": {},
     "output_type": "execute_result"
    }
   ],
   "source": [
    "onlyfiles11 = [f for f in listdir(r\"C:\\internship\\dcase-event-fold\\pageturn\") if isfile(join(r\"C:\\internship\\dcase-event-fold\\pageturn\", f))]\n",
    "raw_sounds11= []\n",
    "for i in range(len(onlyfiles11)):\n",
    "    X11,sr11=librosa.load( os.path.join(r\"C:\\internship\\dcase-event-fold\\pageturn\",onlyfiles11[i]))\n",
    "    me11=_extract_segments(X11,onlyfiles11[i])\n",
    "    #me11 = np.mean(librosa.feature.melspectrogram(y=X11, sr=sr11, n_mels=40).T,axis=0)\n",
    "    raw_sounds11.append(me11)\n",
    "    dataclass.append(11)\n",
    "raw_sounds11=np.array(raw_sounds11)\n",
    "for i in range(len(onlyfiles11)):\n",
    "    if(onlyfiles11[i][3]=='1'):\n",
    "        fold1.append(raw_sounds11[i])\n",
    "        dataclass1.append(11)\n",
    "    elif(onlyfiles11[i][3]=='2'):\n",
    "        fold2.append(raw_sounds11[i])\n",
    "        dataclass2.append(11)\n",
    "    elif(onlyfiles11[i][3]=='3'):\n",
    "        fold3.append(raw_sounds11[i])\n",
    "        dataclass3.append(11)\n",
    "    elif(onlyfiles11[i][3]=='4'):\n",
    "        fold4.append(raw_sounds11[i])\n",
    "        dataclass4.append(11)\n",
    "    elif(onlyfiles11[i][3]=='5'):\n",
    "        fold5.append(raw_sounds11[i])\n",
    "        dataclass5.append(11)\n",
    "raw_sounds11.shape \n"
   ]
  },
  {
   "cell_type": "code",
   "execution_count": 34,
   "metadata": {},
   "outputs": [
    {
     "data": {
      "text/plain": [
       "(20, 120)"
      ]
     },
     "execution_count": 34,
     "metadata": {},
     "output_type": "execute_result"
    }
   ],
   "source": [
    "onlyfiles12 = [f for f in listdir(r\"C:\\internship\\dcase-event-fold\\pendrop\") if isfile(join(r\"C:\\internship\\dcase-event-fold\\pendrop\", f))]\n",
    "raw_sounds12= []\n",
    "for i in range(len(onlyfiles12)):\n",
    "    X12,sr12=librosa.load( os.path.join(r\"C:\\internship\\dcase-event-fold\\pendrop\",onlyfiles12[i]))\n",
    "    me12=_extract_segments(X12,onlyfiles12[i])\n",
    "    #me12 = np.mean(librosa.feature.melspectrogram(y=X12, sr=sr12, n_mels=40).T,axis=0)\n",
    "    raw_sounds12.append(me12)\n",
    "    dataclass.append(12)\n",
    "raw_sounds12=np.array(raw_sounds12)\n",
    "for i in range(len(onlyfiles12)):\n",
    "    if(onlyfiles12[i][3]=='1'):\n",
    "        fold1.append(raw_sounds12[i])\n",
    "        dataclass1.append(12)\n",
    "    elif(onlyfiles12[i][3]=='2'):\n",
    "        fold2.append(raw_sounds12[i])\n",
    "        dataclass2.append(12)\n",
    "    elif(onlyfiles12[i][3]=='3'):\n",
    "        fold3.append(raw_sounds12[i])\n",
    "        dataclass3.append(12)\n",
    "    elif(onlyfiles12[i][3]=='4'):\n",
    "        fold4.append(raw_sounds12[i])\n",
    "        dataclass4.append(12)\n",
    "    elif(onlyfiles12[i][3]=='5'):\n",
    "        fold5.append(raw_sounds12[i])\n",
    "        dataclass5.append(12)\n",
    "raw_sounds12.shape \n"
   ]
  },
  {
   "cell_type": "code",
   "execution_count": 35,
   "metadata": {},
   "outputs": [
    {
     "data": {
      "text/plain": [
       "(20, 120)"
      ]
     },
     "execution_count": 35,
     "metadata": {},
     "output_type": "execute_result"
    }
   ],
   "source": [
    "onlyfiles13 = [f for f in listdir(r\"C:\\internship\\dcase-event-fold\\phone\") if isfile(join(r\"C:\\internship\\dcase-event-fold\\phone\", f))]\n",
    "raw_sounds13= []\n",
    "for i in range(len(onlyfiles13)):\n",
    "    X13,sr13=librosa.load( os.path.join(r\"C:\\internship\\dcase-event-fold\\phone\",onlyfiles13[i]))\n",
    "    me13=_extract_segments(X13,onlyfiles13[i])\n",
    "    #me12 = np.mean(librosa.feature.melspectrogram(y=X12, sr=sr12, n_mels=40).T,axis=0)\n",
    "    raw_sounds13.append(me13)\n",
    "    dataclass.append(13)\n",
    "raw_sounds13=np.array(raw_sounds13)\n",
    "for i in range(len(onlyfiles13)):\n",
    "    if(onlyfiles13[i][3]=='1'):\n",
    "        fold1.append(raw_sounds13[i])\n",
    "        dataclass1.append(13)\n",
    "    elif(onlyfiles13[i][3]=='2'):\n",
    "        fold2.append(raw_sounds13[i])\n",
    "        dataclass2.append(13)\n",
    "    elif(onlyfiles13[i][3]=='3'):\n",
    "        fold3.append(raw_sounds13[i])\n",
    "        dataclass3.append(13)\n",
    "    elif(onlyfiles13[i][3]=='4'):\n",
    "        fold4.append(raw_sounds13[i])\n",
    "        dataclass4.append(13)\n",
    "    elif(onlyfiles13[i][3]=='5'):\n",
    "        fold5.append(raw_sounds13[i])\n",
    "        dataclass5.append(13)\n",
    "raw_sounds13.shape \n"
   ]
  },
  {
   "cell_type": "code",
   "execution_count": 36,
   "metadata": {},
   "outputs": [
    {
     "data": {
      "text/plain": [
       "(20, 120)"
      ]
     },
     "execution_count": 36,
     "metadata": {},
     "output_type": "execute_result"
    }
   ],
   "source": [
    "onlyfiles14 = [f for f in listdir(r\"C:\\internship\\dcase-event-fold\\printer\") if isfile(join(r\"C:\\internship\\dcase-event-fold\\printer\", f))]\n",
    "raw_sounds14= []\n",
    "for i in range(len(onlyfiles14)):\n",
    "    X14,sr14=librosa.load( os.path.join(r\"C:\\internship\\dcase-event-fold\\printer\",onlyfiles14[i]))\n",
    "    me14=_extract_segments(X14,onlyfiles14[i])\n",
    "    #me12 = np.mean(librosa.feature.melspectrogram(y=X12, sr=sr12, n_mels=40).T,axis=0)\n",
    "    raw_sounds14.append(me14)\n",
    "    dataclass.append(14)\n",
    "raw_sounds14=np.array(raw_sounds14)\n",
    "for i in range(len(onlyfiles14)):\n",
    "    if(onlyfiles14[i][3]=='1'):\n",
    "        fold1.append(raw_sounds14[i])\n",
    "        dataclass1.append(14)\n",
    "    elif(onlyfiles14[i][3]=='2'):\n",
    "        fold2.append(raw_sounds14[i])\n",
    "        dataclass2.append(14)\n",
    "    elif(onlyfiles14[i][3]=='3'):\n",
    "        fold3.append(raw_sounds14[i])\n",
    "        dataclass3.append(14)\n",
    "    elif(onlyfiles14[i][3]=='4'):\n",
    "        fold4.append(raw_sounds14[i])\n",
    "        dataclass4.append(14)\n",
    "    elif(onlyfiles14[i][3]=='5'):\n",
    "        fold5.append(raw_sounds14[i])\n",
    "        dataclass5.append(14)\n",
    "raw_sounds14.shape \n"
   ]
  },
  {
   "cell_type": "code",
   "execution_count": 37,
   "metadata": {},
   "outputs": [
    {
     "data": {
      "text/plain": [
       "(20, 120)"
      ]
     },
     "execution_count": 37,
     "metadata": {},
     "output_type": "execute_result"
    }
   ],
   "source": [
    "onlyfiles15 = [f for f in listdir(r\"C:\\internship\\dcase-event-fold\\speech\") if isfile(join(r\"C:\\internship\\dcase-event-fold\\speech\", f))]\n",
    "raw_sounds15= []\n",
    "for i in range(len(onlyfiles15)):\n",
    "    X15,sr15=librosa.load( os.path.join(r\"C:\\internship\\dcase-event-fold\\speech\",onlyfiles15[i]))\n",
    "    me15=_extract_segments(X15,onlyfiles15[i])\n",
    "    #me12 = np.mean(librosa.feature.melspectrogram(y=X12, sr=sr12, n_mels=40).T,axis=0)\n",
    "    raw_sounds15.append(me15)\n",
    "    dataclass.append(15)\n",
    "raw_sounds15=np.array(raw_sounds15)\n",
    "for i in range(len(onlyfiles15)):\n",
    "    if(onlyfiles15[i][3]=='1'):\n",
    "        fold1.append(raw_sounds15[i])\n",
    "        dataclass1.append(15)\n",
    "    elif(onlyfiles15[i][3]=='2'):\n",
    "        fold2.append(raw_sounds15[i])\n",
    "        dataclass2.append(15)\n",
    "    elif(onlyfiles15[i][3]=='3'):\n",
    "        fold3.append(raw_sounds15[i])\n",
    "        dataclass3.append(15)\n",
    "    elif(onlyfiles15[i][3]=='4'):\n",
    "        fold4.append(raw_sounds15[i])\n",
    "        dataclass4.append(15)\n",
    "    elif(onlyfiles15[i][3]=='5'):\n",
    "        fold5.append(raw_sounds15[i])\n",
    "        dataclass5.append(15)\n",
    "raw_sounds15.shape \n"
   ]
  },
  {
   "cell_type": "code",
   "execution_count": 38,
   "metadata": {},
   "outputs": [
    {
     "data": {
      "text/plain": [
       "(20, 120)"
      ]
     },
     "execution_count": 38,
     "metadata": {},
     "output_type": "execute_result"
    }
   ],
   "source": [
    "onlyfiles16 = [f for f in listdir(r\"C:\\internship\\dcase-event-fold\\switch\") if isfile(join(r\"C:\\internship\\dcase-event-fold\\switch\", f))]\n",
    "raw_sounds16= []\n",
    "for i in range(len(onlyfiles16)):\n",
    "    X16,sr16=librosa.load( os.path.join(r\"C:\\internship\\dcase-event-fold\\switch\",onlyfiles16[i]))\n",
    "    me16=_extract_segments(X16,onlyfiles16[i])\n",
    "    #me12 = np.mean(librosa.feature.melspectrogram(y=X12, sr=sr12, n_mels=40).T,axis=0)\n",
    "    raw_sounds16.append(me16)\n",
    "    dataclass.append(16)\n",
    "raw_sounds16=np.array(raw_sounds16)\n",
    "for i in range(len(onlyfiles16)):\n",
    "    if(onlyfiles16[i][3]=='1'):\n",
    "        fold1.append(raw_sounds16[i])\n",
    "        dataclass1.append(16)\n",
    "    elif(onlyfiles16[i][3]=='2'):\n",
    "        fold2.append(raw_sounds16[i])\n",
    "        dataclass2.append(16)\n",
    "    elif(onlyfiles16[i][3]=='3'):\n",
    "        fold3.append(raw_sounds16[i])\n",
    "        dataclass3.append(16)\n",
    "    elif(onlyfiles16[i][3]=='4'):\n",
    "        fold4.append(raw_sounds16[i])\n",
    "        dataclass4.append(16)\n",
    "    elif(onlyfiles16[i][3]=='5'):\n",
    "        fold5.append(raw_sounds16[i])\n",
    "        dataclass5.append(16)\n",
    "raw_sounds16.shape \n"
   ]
  },
  {
   "cell_type": "code",
   "execution_count": 39,
   "metadata": {},
   "outputs": [
    {
     "name": "stdout",
     "output_type": "stream",
     "text": [
      "(64, 120)\n",
      "(64, 120)\n",
      "(64, 120)\n",
      "(64, 120)\n",
      "(64, 120)\n"
     ]
    }
   ],
   "source": [
    "fold1=np.array(fold1)\n",
    "print(fold1.shape)\n",
    "fold2=np.array(fold2)\n",
    "print(fold2.shape)\n",
    "fold3=np.array(fold3)\n",
    "print(fold3.shape)\n",
    "fold4=np.array(fold4)\n",
    "print(fold4.shape)\n",
    "fold5=np.array(fold5)\n",
    "print(fold5.shape)\n"
   ]
  },
  {
   "cell_type": "code",
   "execution_count": 40,
   "metadata": {},
   "outputs": [
    {
     "name": "stdout",
     "output_type": "stream",
     "text": [
      "64\n",
      "64\n",
      "64\n",
      "64\n",
      "64\n"
     ]
    }
   ],
   "source": [
    "print(len(dataclass1))\n",
    "print(len(dataclass2))\n",
    "print(len(dataclass3))\n",
    "print(len(dataclass4))\n",
    "print(len(dataclass5))"
   ]
  },
  {
   "cell_type": "code",
   "execution_count": 72,
   "metadata": {},
   "outputs": [
    {
     "name": "stdout",
     "output_type": "stream",
     "text": [
      "(256, 120)\n",
      "(256,)\n"
     ]
    }
   ],
   "source": [
    "train=[]\n",
    "train_x=np.vstack([fold2,fold3,fold4,fold5])\n",
    "train_x=np.array(train_x)\n",
    "train_y=dataclass2+dataclass3+dataclass4+dataclass5\n",
    "print (train_x.shape)\n",
    "train_y=np.array(train_y)\n",
    "print (train_y.shape)"
   ]
  },
  {
   "cell_type": "code",
   "execution_count": 73,
   "metadata": {},
   "outputs": [
    {
     "name": "stdout",
     "output_type": "stream",
     "text": [
      "(256, 16)\n"
     ]
    }
   ],
   "source": [
    "labelencoder_train=LabelEncoder()\n",
    "labelencoder_train.fit(train_y)\n",
    "data_cl=labelencoder_train.transform(train_y)\n",
    "dummy_class_train=np_utils.to_categorical(data_cl)\n",
    "print (dummy_class_train.shape)\n"
   ]
  },
  {
   "cell_type": "code",
   "execution_count": 74,
   "metadata": {},
   "outputs": [
    {
     "name": "stdout",
     "output_type": "stream",
     "text": [
      "(64, 16)\n"
     ]
    }
   ],
   "source": [
    "labelencoder_test=LabelEncoder()\n",
    "labelencoder_test.fit(dataclass1)\n",
    "data_cl=labelencoder_test.transform(dataclass1)\n",
    "dummy_class_test=np_utils.to_categorical(data_cl)\n",
    "print (dummy_class_test.shape)\n"
   ]
  },
  {
   "cell_type": "code",
   "execution_count": 75,
   "metadata": {
    "collapsed": true
   },
   "outputs": [],
   "source": [
    "#convolutional neural network model trained on all the folds\n",
    "model = Sequential()\n",
    "#train_xx = np.expand_dims(train_x, axis=2)\n",
    "#foldi= np.expand_dims(fold2, axis=2)\n",
    "#model.add(Conv1D(filters=10, kernel_size=5, input_shape=(40,1)))\n",
    "#model.add(MaxPooling1D(pool_size=5 ))\n",
    "#model.add(Flatten())\n",
    "model.add(Dense(500, activation='relu',input_dim=120))\n",
    "model.add(Dropout(0.1))\n",
    "model.add(Dense(500, activation='relu'))\n",
    "model.add(Dropout(0.1))\n",
    "model.add(Dense(500, activation='relu'))\n",
    "model.add(Dropout(0.1))\n",
    "#model.add(Dense(100, activation='relu'))\n",
    "#model.add(Dense(100, activation='relu'))\n",
    "model.add(Dense(16, activation='softmax'))\n",
    "#train_xx.shape"
   ]
  },
  {
   "cell_type": "code",
   "execution_count": 76,
   "metadata": {
    "collapsed": true
   },
   "outputs": [],
   "source": [
    "batch_size = 50\n",
    "epochs = 170\n",
    "model.compile(optimizer='rmsprop', loss='categorical_crossentropy', metrics=['accuracy'])\n"
   ]
  },
  {
   "cell_type": "code",
   "execution_count": 77,
   "metadata": {},
   "outputs": [
    {
     "name": "stdout",
     "output_type": "stream",
     "text": [
      "Epoch 1/170\n",
      "256/256 [==============================] - 1s 2ms/step - loss: 6.2348 - acc: 0.1172\n",
      "Epoch 2/170\n",
      "256/256 [==============================] - 0s 488us/step - loss: 5.1154 - acc: 0.1602\n",
      "Epoch 3/170\n",
      "256/256 [==============================] - 0s 549us/step - loss: 3.8798 - acc: 0.2227\n",
      "Epoch 4/170\n",
      "256/256 [==============================] - 0s 488us/step - loss: 2.4294 - acc: 0.2734\n",
      "Epoch 5/170\n",
      "256/256 [==============================] - 0s 549us/step - loss: 2.2610 - acc: 0.3633\n",
      "Epoch 6/170\n",
      "256/256 [==============================] - 0s 488us/step - loss: 2.2150 - acc: 0.3789\n",
      "Epoch 7/170\n",
      "256/256 [==============================] - 0s 549us/step - loss: 2.0233 - acc: 0.4648\n",
      "Epoch 8/170\n",
      "256/256 [==============================] - 0s 549us/step - loss: 2.1486 - acc: 0.3828\n",
      "Epoch 9/170\n",
      "256/256 [==============================] - 0s 488us/step - loss: 1.8361 - acc: 0.5000\n",
      "Epoch 10/170\n",
      "256/256 [==============================] - 0s 549us/step - loss: 1.7651 - acc: 0.5195\n",
      "Epoch 11/170\n",
      "256/256 [==============================] - 0s 488us/step - loss: 1.7265 - acc: 0.4844\n",
      "Epoch 12/170\n",
      "256/256 [==============================] - 0s 488us/step - loss: 1.6363 - acc: 0.5234\n",
      "Epoch 13/170\n",
      "256/256 [==============================] - 0s 549us/step - loss: 1.5941 - acc: 0.5352\n",
      "Epoch 14/170\n",
      "256/256 [==============================] - 0s 549us/step - loss: 1.5967 - acc: 0.5547\n",
      "Epoch 15/170\n",
      "256/256 [==============================] - 0s 549us/step - loss: 1.6410 - acc: 0.5469\n",
      "Epoch 16/170\n",
      "256/256 [==============================] - 0s 549us/step - loss: 1.4661 - acc: 0.5625\n",
      "Epoch 17/170\n",
      "256/256 [==============================] - 0s 488us/step - loss: 1.4534 - acc: 0.5664\n",
      "Epoch 18/170\n",
      "256/256 [==============================] - 0s 549us/step - loss: 1.4696 - acc: 0.5742\n",
      "Epoch 19/170\n",
      "256/256 [==============================] - 0s 610us/step - loss: 1.2947 - acc: 0.6211\n",
      "Epoch 20/170\n",
      "256/256 [==============================] - 0s 488us/step - loss: 1.2073 - acc: 0.6484\n",
      "Epoch 21/170\n",
      "256/256 [==============================] - 0s 549us/step - loss: 1.4455 - acc: 0.5938\n",
      "Epoch 22/170\n",
      "256/256 [==============================] - 0s 549us/step - loss: 1.2842 - acc: 0.5898\n",
      "Epoch 23/170\n",
      "256/256 [==============================] - 0s 549us/step - loss: 1.1678 - acc: 0.6211\n",
      "Epoch 24/170\n",
      "256/256 [==============================] - 0s 549us/step - loss: 1.0698 - acc: 0.6875\n",
      "Epoch 25/170\n",
      "256/256 [==============================] - 0s 610us/step - loss: 1.2363 - acc: 0.5898\n",
      "Epoch 26/170\n",
      "256/256 [==============================] - 0s 549us/step - loss: 1.1506 - acc: 0.6758\n",
      "Epoch 27/170\n",
      "256/256 [==============================] - 0s 549us/step - loss: 1.2888 - acc: 0.5898\n",
      "Epoch 28/170\n",
      "256/256 [==============================] - 0s 610us/step - loss: 1.0487 - acc: 0.7109\n",
      "Epoch 29/170\n",
      "256/256 [==============================] - 0s 549us/step - loss: 1.2502 - acc: 0.6523\n",
      "Epoch 30/170\n",
      "256/256 [==============================] - 0s 610us/step - loss: 0.9097 - acc: 0.7188\n",
      "Epoch 31/170\n",
      "256/256 [==============================] - 0s 488us/step - loss: 0.9596 - acc: 0.7148\n",
      "Epoch 32/170\n",
      "256/256 [==============================] - 0s 549us/step - loss: 0.9790 - acc: 0.6992\n",
      "Epoch 33/170\n",
      "256/256 [==============================] - 0s 610us/step - loss: 0.9609 - acc: 0.7031\n",
      "Epoch 34/170\n",
      "256/256 [==============================] - 0s 549us/step - loss: 0.8590 - acc: 0.7266\n",
      "Epoch 35/170\n",
      "256/256 [==============================] - 0s 610us/step - loss: 0.8877 - acc: 0.7344\n",
      "Epoch 36/170\n",
      "256/256 [==============================] - 0s 610us/step - loss: 1.0295 - acc: 0.7227\n",
      "Epoch 37/170\n",
      "256/256 [==============================] - 0s 549us/step - loss: 1.0806 - acc: 0.7305\n",
      "Epoch 38/170\n",
      "256/256 [==============================] - 0s 549us/step - loss: 0.9698 - acc: 0.7305\n",
      "Epoch 39/170\n",
      "256/256 [==============================] - 0s 549us/step - loss: 0.7215 - acc: 0.7734\n",
      "Epoch 40/170\n",
      "256/256 [==============================] - 0s 549us/step - loss: 0.8015 - acc: 0.7500\n",
      "Epoch 41/170\n",
      "256/256 [==============================] - 0s 488us/step - loss: 0.6876 - acc: 0.7695\n",
      "Epoch 42/170\n",
      "256/256 [==============================] - 0s 549us/step - loss: 0.9355 - acc: 0.6953\n",
      "Epoch 43/170\n",
      "256/256 [==============================] - 0s 610us/step - loss: 0.6114 - acc: 0.7930\n",
      "Epoch 44/170\n",
      "256/256 [==============================] - 0s 549us/step - loss: 0.9205 - acc: 0.7578\n",
      "Epoch 45/170\n",
      "256/256 [==============================] - 0s 573us/step - loss: 0.7164 - acc: 0.7734\n",
      "Epoch 46/170\n",
      "256/256 [==============================] - 0s 549us/step - loss: 0.6327 - acc: 0.8086\n",
      "Epoch 47/170\n",
      "256/256 [==============================] - 0s 549us/step - loss: 0.5687 - acc: 0.8125\n",
      "Epoch 48/170\n",
      "256/256 [==============================] - 0s 488us/step - loss: 0.8892 - acc: 0.7617\n",
      "Epoch 49/170\n",
      "256/256 [==============================] - 0s 549us/step - loss: 0.6987 - acc: 0.7969\n",
      "Epoch 50/170\n",
      "256/256 [==============================] - 0s 488us/step - loss: 0.6075 - acc: 0.8320\n",
      "Epoch 51/170\n",
      "256/256 [==============================] - 0s 488us/step - loss: 0.5880 - acc: 0.8359\n",
      "Epoch 52/170\n",
      "256/256 [==============================] - 0s 549us/step - loss: 0.6349 - acc: 0.8164\n",
      "Epoch 53/170\n",
      "256/256 [==============================] - 0s 549us/step - loss: 0.5905 - acc: 0.8281\n",
      "Epoch 54/170\n",
      "256/256 [==============================] - 0s 549us/step - loss: 0.6198 - acc: 0.8086\n",
      "Epoch 55/170\n",
      "256/256 [==============================] - 0s 549us/step - loss: 0.5665 - acc: 0.8203\n",
      "Epoch 56/170\n",
      "256/256 [==============================] - 0s 549us/step - loss: 0.5773 - acc: 0.8125\n",
      "Epoch 57/170\n",
      "256/256 [==============================] - 0s 549us/step - loss: 0.5548 - acc: 0.8242\n",
      "Epoch 58/170\n",
      "256/256 [==============================] - 0s 488us/step - loss: 0.5877 - acc: 0.8164\n",
      "Epoch 59/170\n",
      "256/256 [==============================] - 0s 549us/step - loss: 0.4794 - acc: 0.8359\n",
      "Epoch 60/170\n",
      "256/256 [==============================] - 0s 549us/step - loss: 0.5427 - acc: 0.8437\n",
      "Epoch 61/170\n",
      "256/256 [==============================] - 0s 549us/step - loss: 0.4813 - acc: 0.8359\n",
      "Epoch 62/170\n",
      "256/256 [==============================] - 0s 549us/step - loss: 0.5640 - acc: 0.8281\n",
      "Epoch 63/170\n",
      "256/256 [==============================] - 0s 549us/step - loss: 0.4676 - acc: 0.8594\n",
      "Epoch 64/170\n",
      "256/256 [==============================] - 0s 488us/step - loss: 0.7075 - acc: 0.7969\n",
      "Epoch 65/170\n",
      "256/256 [==============================] - 0s 549us/step - loss: 0.4802 - acc: 0.8633\n",
      "Epoch 66/170\n",
      "256/256 [==============================] - 0s 549us/step - loss: 0.4306 - acc: 0.8594\n",
      "Epoch 67/170\n",
      "256/256 [==============================] - 0s 610us/step - loss: 0.3896 - acc: 0.8945\n",
      "Epoch 68/170\n",
      "256/256 [==============================] - 0s 549us/step - loss: 0.4536 - acc: 0.8633\n",
      "Epoch 69/170\n",
      "256/256 [==============================] - 0s 549us/step - loss: 0.4795 - acc: 0.8398\n",
      "Epoch 70/170\n",
      "256/256 [==============================] - 0s 549us/step - loss: 0.4849 - acc: 0.8789\n",
      "Epoch 71/170\n",
      "256/256 [==============================] - 0s 488us/step - loss: 0.3900 - acc: 0.8516\n",
      "Epoch 72/170\n",
      "256/256 [==============================] - 0s 488us/step - loss: 0.4445 - acc: 0.8750\n",
      "Epoch 73/170\n",
      "256/256 [==============================] - 0s 488us/step - loss: 0.6456 - acc: 0.8516\n",
      "Epoch 74/170\n",
      "256/256 [==============================] - 0s 549us/step - loss: 0.4861 - acc: 0.8867\n",
      "Epoch 75/170\n",
      "256/256 [==============================] - 0s 549us/step - loss: 0.4163 - acc: 0.8867\n",
      "Epoch 76/170\n",
      "256/256 [==============================] - 0s 488us/step - loss: 0.5285 - acc: 0.8711\n",
      "Epoch 77/170\n",
      "256/256 [==============================] - 0s 488us/step - loss: 0.3571 - acc: 0.9023\n",
      "Epoch 78/170\n",
      "256/256 [==============================] - 0s 549us/step - loss: 0.3925 - acc: 0.8984\n",
      "Epoch 79/170\n",
      "256/256 [==============================] - 0s 549us/step - loss: 0.3244 - acc: 0.9258\n",
      "Epoch 80/170\n",
      "256/256 [==============================] - 0s 488us/step - loss: 0.5798 - acc: 0.8555\n",
      "Epoch 81/170\n",
      "256/256 [==============================] - 0s 488us/step - loss: 0.3539 - acc: 0.8867\n",
      "Epoch 82/170\n",
      "256/256 [==============================] - 0s 488us/step - loss: 0.4070 - acc: 0.8867\n",
      "Epoch 83/170\n",
      "256/256 [==============================] - 0s 488us/step - loss: 0.4344 - acc: 0.8906\n",
      "Epoch 84/170\n",
      "256/256 [==============================] - 0s 549us/step - loss: 0.3467 - acc: 0.8828\n",
      "Epoch 85/170\n",
      "256/256 [==============================] - 0s 854us/step - loss: 0.2859 - acc: 0.9258\n",
      "Epoch 86/170\n",
      "256/256 [==============================] - 0s 671us/step - loss: 0.6507 - acc: 0.8633\n",
      "Epoch 87/170\n",
      "256/256 [==============================] - 0s 610us/step - loss: 0.3911 - acc: 0.8828\n",
      "Epoch 88/170\n",
      "256/256 [==============================] - 0s 427us/step - loss: 0.3191 - acc: 0.9141\n",
      "Epoch 89/170\n",
      "256/256 [==============================] - 0s 488us/step - loss: 0.2993 - acc: 0.9062\n",
      "Epoch 90/170\n",
      "256/256 [==============================] - 0s 488us/step - loss: 0.2479 - acc: 0.9336\n",
      "Epoch 91/170\n",
      "256/256 [==============================] - 0s 549us/step - loss: 0.9130 - acc: 0.7969\n",
      "Epoch 92/170\n",
      "256/256 [==============================] - 0s 488us/step - loss: 0.3927 - acc: 0.8945\n",
      "Epoch 93/170\n",
      "256/256 [==============================] - 0s 488us/step - loss: 0.3218 - acc: 0.9180\n",
      "Epoch 94/170\n",
      "256/256 [==============================] - 0s 549us/step - loss: 0.2771 - acc: 0.9297\n",
      "Epoch 95/170\n",
      "256/256 [==============================] - 0s 610us/step - loss: 0.2542 - acc: 0.9297\n",
      "Epoch 96/170\n",
      "256/256 [==============================] - 0s 610us/step - loss: 0.3989 - acc: 0.9023\n",
      "Epoch 97/170\n",
      "256/256 [==============================] - 0s 488us/step - loss: 1.0693 - acc: 0.8164\n",
      "Epoch 98/170\n",
      "256/256 [==============================] - 0s 427us/step - loss: 0.4609 - acc: 0.8906\n",
      "Epoch 99/170\n",
      "256/256 [==============================] - 0s 427us/step - loss: 0.2369 - acc: 0.9297\n",
      "Epoch 100/170\n",
      "256/256 [==============================] - 0s 488us/step - loss: 0.2517 - acc: 0.9297\n",
      "Epoch 101/170\n",
      "256/256 [==============================] - 0s 488us/step - loss: 0.2484 - acc: 0.9336\n",
      "Epoch 102/170\n",
      "256/256 [==============================] - 0s 488us/step - loss: 0.2691 - acc: 0.9180\n",
      "Epoch 103/170\n",
      "256/256 [==============================] - 0s 488us/step - loss: 0.2550 - acc: 0.9297\n",
      "Epoch 104/170\n",
      "256/256 [==============================] - 0s 488us/step - loss: 0.2685 - acc: 0.9258\n",
      "Epoch 105/170\n",
      "256/256 [==============================] - 0s 488us/step - loss: 0.5319 - acc: 0.8789\n",
      "Epoch 106/170\n",
      "256/256 [==============================] - 0s 488us/step - loss: 0.3349 - acc: 0.8906\n",
      "Epoch 107/170\n",
      "256/256 [==============================] - 0s 855us/step - loss: 0.3204 - acc: 0.9102\n",
      "Epoch 108/170\n",
      "256/256 [==============================] - 0s 671us/step - loss: 0.2149 - acc: 0.9336\n",
      "Epoch 109/170\n",
      "256/256 [==============================] - 0s 549us/step - loss: 0.2092 - acc: 0.9531\n",
      "Epoch 110/170\n",
      "256/256 [==============================] - 0s 488us/step - loss: 0.3133 - acc: 0.9102\n",
      "Epoch 111/170\n",
      "256/256 [==============================] - 0s 488us/step - loss: 0.2934 - acc: 0.9180\n",
      "Epoch 112/170\n",
      "256/256 [==============================] - 0s 488us/step - loss: 0.2868 - acc: 0.9258\n",
      "Epoch 113/170\n",
      "256/256 [==============================] - 0s 488us/step - loss: 0.3962 - acc: 0.8867\n",
      "Epoch 114/170\n",
      "256/256 [==============================] - 0s 427us/step - loss: 0.3069 - acc: 0.9375\n",
      "Epoch 115/170\n",
      "256/256 [==============================] - 0s 427us/step - loss: 0.3480 - acc: 0.8945\n",
      "Epoch 116/170\n",
      "256/256 [==============================] - 0s 427us/step - loss: 0.2082 - acc: 0.9375\n",
      "Epoch 117/170\n",
      "256/256 [==============================] - 0s 427us/step - loss: 0.3710 - acc: 0.9180\n",
      "Epoch 118/170\n",
      "256/256 [==============================] - 0s 488us/step - loss: 0.2367 - acc: 0.9297\n",
      "Epoch 119/170\n",
      "256/256 [==============================] - 0s 488us/step - loss: 0.4004 - acc: 0.9180\n",
      "Epoch 120/170\n",
      "256/256 [==============================] - 0s 427us/step - loss: 0.3035 - acc: 0.9180\n",
      "Epoch 121/170\n",
      "256/256 [==============================] - 0s 427us/step - loss: 0.2658 - acc: 0.9102\n",
      "Epoch 122/170\n",
      "256/256 [==============================] - 0s 488us/step - loss: 0.2136 - acc: 0.9492\n",
      "Epoch 123/170\n",
      "256/256 [==============================] - 0s 488us/step - loss: 0.2060 - acc: 0.9414\n",
      "Epoch 124/170\n",
      "256/256 [==============================] - 0s 488us/step - loss: 0.2851 - acc: 0.9102\n",
      "Epoch 125/170\n",
      "256/256 [==============================] - 0s 488us/step - loss: 0.2831 - acc: 0.9219\n",
      "Epoch 126/170\n",
      "256/256 [==============================] - 0s 488us/step - loss: 0.2413 - acc: 0.9258\n",
      "Epoch 127/170\n",
      "256/256 [==============================] - 0s 488us/step - loss: 0.3331 - acc: 0.9180\n",
      "Epoch 128/170\n",
      "256/256 [==============================] - 0s 488us/step - loss: 0.2375 - acc: 0.9336\n",
      "Epoch 129/170\n",
      "256/256 [==============================] - 0s 488us/step - loss: 0.1782 - acc: 0.9531\n",
      "Epoch 130/170\n",
      "256/256 [==============================] - 0s 427us/step - loss: 0.4069 - acc: 0.9141\n",
      "Epoch 131/170\n",
      "256/256 [==============================] - 0s 427us/step - loss: 0.2824 - acc: 0.9336\n",
      "Epoch 132/170\n",
      "256/256 [==============================] - 0s 488us/step - loss: 0.2573 - acc: 0.9531\n",
      "Epoch 133/170\n",
      "256/256 [==============================] - 0s 488us/step - loss: 0.2473 - acc: 0.9453\n",
      "Epoch 134/170\n",
      "256/256 [==============================] - 0s 488us/step - loss: 0.2310 - acc: 0.9336\n",
      "Epoch 135/170\n",
      "256/256 [==============================] - 0s 488us/step - loss: 0.2125 - acc: 0.9414\n",
      "Epoch 136/170\n",
      "256/256 [==============================] - 0s 549us/step - loss: 0.1984 - acc: 0.9492\n",
      "Epoch 137/170\n",
      "256/256 [==============================] - 0s 488us/step - loss: 0.2572 - acc: 0.9180\n",
      "Epoch 138/170\n",
      "256/256 [==============================] - 0s 427us/step - loss: 0.1756 - acc: 0.9453\n",
      "Epoch 139/170\n",
      "256/256 [==============================] - 0s 488us/step - loss: 0.2457 - acc: 0.9297\n",
      "Epoch 140/170\n",
      "256/256 [==============================] - 0s 549us/step - loss: 0.2243 - acc: 0.9375\n",
      "Epoch 141/170\n",
      "256/256 [==============================] - 0s 488us/step - loss: 0.1663 - acc: 0.9609\n",
      "Epoch 142/170\n",
      "256/256 [==============================] - 0s 427us/step - loss: 0.3484 - acc: 0.9258\n",
      "Epoch 143/170\n",
      "256/256 [==============================] - 0s 549us/step - loss: 0.5027 - acc: 0.9102\n",
      "Epoch 144/170\n",
      "256/256 [==============================] - 0s 549us/step - loss: 0.2801 - acc: 0.9297\n",
      "Epoch 145/170\n",
      "256/256 [==============================] - 0s 549us/step - loss: 0.1882 - acc: 0.9414\n",
      "Epoch 146/170\n",
      "256/256 [==============================] - 0s 488us/step - loss: 0.2291 - acc: 0.9453\n",
      "Epoch 147/170\n",
      "256/256 [==============================] - 0s 488us/step - loss: 0.1947 - acc: 0.9492\n",
      "Epoch 148/170\n",
      "256/256 [==============================] - 0s 488us/step - loss: 0.4976 - acc: 0.9063\n",
      "Epoch 149/170\n",
      "256/256 [==============================] - 0s 610us/step - loss: 0.2889 - acc: 0.9297\n",
      "Epoch 150/170\n",
      "256/256 [==============================] - 0s 488us/step - loss: 0.1553 - acc: 0.9609\n",
      "Epoch 151/170\n",
      "256/256 [==============================] - 0s 427us/step - loss: 0.1710 - acc: 0.9453\n",
      "Epoch 152/170\n",
      "256/256 [==============================] - 0s 427us/step - loss: 0.2099 - acc: 0.9414\n",
      "Epoch 153/170\n",
      "256/256 [==============================] - 0s 488us/step - loss: 0.2369 - acc: 0.9531\n",
      "Epoch 154/170\n",
      "256/256 [==============================] - 0s 488us/step - loss: 0.2166 - acc: 0.9492\n",
      "Epoch 155/170\n",
      "256/256 [==============================] - 0s 427us/step - loss: 0.1979 - acc: 0.9453\n",
      "Epoch 156/170\n",
      "256/256 [==============================] - 0s 488us/step - loss: 0.2347 - acc: 0.9297\n",
      "Epoch 157/170\n",
      "256/256 [==============================] - 0s 488us/step - loss: 0.2601 - acc: 0.9219\n",
      "Epoch 158/170\n",
      "256/256 [==============================] - 0s 549us/step - loss: 0.2289 - acc: 0.9648\n",
      "Epoch 159/170\n",
      "256/256 [==============================] - 0s 671us/step - loss: 0.1934 - acc: 0.9453\n",
      "Epoch 160/170\n",
      "256/256 [==============================] - 0s 549us/step - loss: 0.2437 - acc: 0.9336\n",
      "Epoch 161/170\n",
      "256/256 [==============================] - 0s 488us/step - loss: 0.1495 - acc: 0.9648\n",
      "Epoch 162/170\n",
      "256/256 [==============================] - 0s 427us/step - loss: 0.2496 - acc: 0.9297\n",
      "Epoch 163/170\n",
      "256/256 [==============================] - 0s 488us/step - loss: 0.2000 - acc: 0.9453\n",
      "Epoch 164/170\n",
      "256/256 [==============================] - 0s 427us/step - loss: 0.3421 - acc: 0.9297\n",
      "Epoch 165/170\n"
     ]
    },
    {
     "name": "stdout",
     "output_type": "stream",
     "text": [
      "256/256 [==============================] - 0s 488us/step - loss: 0.2768 - acc: 0.9531\n",
      "Epoch 166/170\n",
      "256/256 [==============================] - 0s 488us/step - loss: 0.2044 - acc: 0.9492\n",
      "Epoch 167/170\n",
      "256/256 [==============================] - 0s 427us/step - loss: 0.1457 - acc: 0.9609\n",
      "Epoch 168/170\n",
      "256/256 [==============================] - 0s 427us/step - loss: 0.1616 - acc: 0.9570\n",
      "Epoch 169/170\n",
      "256/256 [==============================] - 0s 427us/step - loss: 0.3062 - acc: 0.9297\n",
      "Epoch 170/170\n",
      "256/256 [==============================] - 0s 488us/step - loss: 0.2816 - acc: 0.9414\n"
     ]
    }
   ],
   "source": [
    "history = model.fit(train_x, dummy_class_train, batch_size=batch_size, epochs=epochs, verbose=1)#, validation_data=(fold5,dummy_class_test))"
   ]
  },
  {
   "cell_type": "code",
   "execution_count": 81,
   "metadata": {},
   "outputs": [
    {
     "name": "stdout",
     "output_type": "stream",
     "text": [
      "[4.8306965827941895, 0.453125]\n"
     ]
    }
   ],
   "source": [
    " print(model.evaluate(fold1,dummy_class_test, verbose=0))"
   ]
  },
  {
   "cell_type": "code",
   "execution_count": null,
   "metadata": {
    "collapsed": true
   },
   "outputs": [],
   "source": []
  }
 ],
 "metadata": {
  "kernelspec": {
   "display_name": "Python 3",
   "language": "python",
   "name": "python3"
  },
  "language_info": {
   "codemirror_mode": {
    "name": "ipython",
    "version": 3
   },
   "file_extension": ".py",
   "mimetype": "text/x-python",
   "name": "python",
   "nbconvert_exporter": "python",
   "pygments_lexer": "ipython3",
   "version": "3.6.3"
  }
 },
 "nbformat": 4,
 "nbformat_minor": 2
}
