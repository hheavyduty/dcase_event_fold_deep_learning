{
 "cells": [
  {
   "cell_type": "code",
   "execution_count": 73,
   "metadata": {},
   "outputs": [
    {
     "name": "stdout",
     "output_type": "stream",
     "text": [
      "5\n"
     ]
    }
   ],
   "source": [
    "from os import listdir\n",
    "import os\n",
    "import keras\n",
    "from os.path import isfile, join\n",
    "import librosa\n",
    "import numpy as np\n",
    "from keras.models import Sequential\n",
    "from keras.layers import Dense,Flatten,Conv2D,MaxPooling2D,Dropout,Reshape,LSTM\n",
    "import pandas as pd\n",
    "#data_class=np.loadtxt(r\"C:\\Users\\USER\\Desktop\\labels.txt\",delimiter=',')\n",
    "from sklearn.preprocessing import LabelEncoder,OneHotEncoder\n",
    "from keras.utils import np_utils   \n",
    "import logging\n",
    "from keras.regularizers import l2\n",
    "from keras import backend as K\n",
    "from keras.layers.normalization import BatchNormalization\n",
    "#K.set_image_dim_ordering('th')\n",
    "print(5)"
   ]
  },
  {
   "cell_type": "code",
   "execution_count": 74,
   "metadata": {},
   "outputs": [
    {
     "name": "stdout",
     "output_type": "stream",
     "text": [
      "5\n"
     ]
    }
   ],
   "source": [
    "def _extract_segments(clip, filename):\n",
    "    #clip, filename = args\n",
    "\n",
    "    # Due to an off-by-one bug which has not been caught earlier,\n",
    "    # actually both variants (long and short) use the same\n",
    "    # overlap setting (half of window size) - whereas different settings\n",
    "    # were mentioned in the paper.\n",
    "    #\n",
    "    # The code below has been already cleaned up to reflect those changes.\n",
    "    #\n",
    "    # Apart from that, for reproducibility purposes it is required that\n",
    "    # librosa v0.3.1 is used, as further versions drastically change\n",
    "    # the delta computations.\n",
    "    \n",
    "    FRAMES_PER_SEGMENT = 2 # 41 frames ~= 950 ms segment length @ 22050 Hz\n",
    "    WINDOW_SIZE = 512 * 2  # 23 ms per frame @ 22050 Hz\n",
    "    STEP_SIZE = 512 * 2// 2\n",
    "    BANDS = 40\n",
    "    #sum=np.zeros(60,41)\n",
    "    \n",
    "    s = 0\n",
    "    segments1 = []\n",
    "    segments2=[]\n",
    "    logspec=[]\n",
    "    logspec=np.array(logspec)\n",
    "\n",
    "    normalization_factor = 1 / np.max(np.abs(clip)) \n",
    "    clip = clip * normalization_factor\n",
    "\n",
    "    while len(clip[s * STEP_SIZE:s * STEP_SIZE + WINDOW_SIZE]) == WINDOW_SIZE:\n",
    "        signal = clip[s * STEP_SIZE:s * STEP_SIZE + WINDOW_SIZE]\n",
    "\n",
    "        melspec = librosa.feature.melspectrogram(signal, sr=22050, n_fft=1024, hop_length=512, n_mels=BANDS)\n",
    "        #logspec = librosa.logamplitude(melspec)\n",
    "\n",
    "        #delta=librosa.feature.delta(melspec,mode='nearest')\n",
    "        #melspec = melspec.T.flatten()[:, np.newaxis].T\n",
    "        #melspec = pd.DataFrame(data=melspec, dtype='float32', index=[0], columns=list('logspec_b{}_f{}'.format(i % BANDS, i / BANDS) for i in range(np.shape(logspec)[1])))\n",
    "\n",
    "        #if np.mean(logspec.as_matrix()) > -70.0:   # drop silent frames\n",
    "        #segment_meta = pd.DataFrame({'filename': filename,\n",
    "                                        #'s_begin': s * STEP_SIZE, 's_end': s * STEP_SIZE + WINDOW_SIZE,}, index=[0])\n",
    "        #segments.append(pd.concat((segment_meta, logspec), axis=1))\n",
    "        segments1.append(melspec)\n",
    "        #segments2.append(delta)\n",
    "        s = s + 1\n",
    "    #for i in range(s-1):\n",
    "        #sum=sum+segments(i,:,:)\n",
    "    #segments=sum/s-1\n",
    "    segments1=np.mean(segments1,axis=0) \n",
    "    #segments2=np.mean(segments2,axis=0)\n",
    "\n",
    "    #segments = pd.concat(segments, ignore_index=True)\n",
    "    #libc.malloc_trim(0)\n",
    "    return segments1\n",
    "print(5)"
   ]
  },
  {
   "cell_type": "code",
   "execution_count": 75,
   "metadata": {
    "collapsed": true
   },
   "outputs": [],
   "source": [
    "dataclass=[]\n",
    "dataclass1=[]\n",
    "dataclass2=[]\n",
    "dataclass3=[]\n",
    "dataclass4=[]\n",
    "dataclass5=[]\n",
    "fold1=[]\n",
    "fold2=[]\n",
    "fold3=[]\n",
    "fold4=[]\n",
    "fold5=[]\n"
   ]
  },
  {
   "cell_type": "code",
   "execution_count": 76,
   "metadata": {
    "collapsed": true
   },
   "outputs": [],
   "source": [
    "def extract_features1(onlyfiles,cls,x):\n",
    "    \n",
    "    raw_sounds = []\n",
    "    for i in range(len(onlyfiles)):\n",
    "        X,sr=librosa.load( os.path.join(r\"C:\\internship\\dcase-event-fold\",os.path.join(cls,onlyfiles[i])))\n",
    "        #me2 = np.mean(librosa.feature.melspectrogram(y=X2, sr=sr2, n_mels=40).T,axis=0)\n",
    "        me=_extract_segments(X,onlyfiles[i])\n",
    "        #me2=librosa.feature.melspectrogram(y=X2, sr=sr2, n_mels=60,n_fft=1024,hop_length=512)\n",
    "        #print(me2.shape)\n",
    "        raw_sounds.append(me)\n",
    "        dataclass.append(2)\n",
    "    raw_sounds=np.array(raw_sounds)\n",
    "    \n",
    "    \n",
    "    for i in range(len(onlyfiles)):\n",
    "        if(onlyfiles[i][3]=='1'):\n",
    "            fold1.append(raw_sounds[i])\n",
    "            dataclass1.append(x)\n",
    "        elif(onlyfiles[i][3]=='2'):\n",
    "            fold2.append(raw_sounds[i])\n",
    "            dataclass2.append(x)\n",
    "        elif(onlyfiles[i][3]=='3'):\n",
    "            fold3.append(raw_sounds[i])\n",
    "            dataclass3.append(x)\n",
    "        elif(onlyfiles[i][3]=='4'):\n",
    "            fold4.append(raw_sounds[i])\n",
    "            dataclass4.append(x)\n",
    "        elif(onlyfiles[i][3]=='5'):\n",
    "            fold5.append(raw_sounds[i])\n",
    "            dataclass5.append(x)\n",
    "    return raw_sounds"
   ]
  },
  {
   "cell_type": "code",
   "execution_count": 77,
   "metadata": {},
   "outputs": [
    {
     "name": "stdout",
     "output_type": "stream",
     "text": [
      "(20, 40, 3)\n"
     ]
    }
   ],
   "source": [
    "onlyfiles1 = [f for f in listdir(r\"C:\\internship\\dcase-event-fold\\alert\")if isfile(join(r\"C:\\internship\\dcase-event-fold\\alert\", f))]\n",
    "raw_sounds1=[]\n",
    "raw_sounds1=extract_features1(onlyfiles1,r\"alert\",1)\n",
    "print(raw_sounds1.shape)   "
   ]
  },
  {
   "cell_type": "code",
   "execution_count": 78,
   "metadata": {},
   "outputs": [
    {
     "name": "stdout",
     "output_type": "stream",
     "text": [
      "(20, 40, 3)\n"
     ]
    }
   ],
   "source": [
    "onlyfiles2 = [f for f in listdir(r\"C:\\internship\\dcase-event-fold\\clearthroat\") if isfile(join(r\"C:\\internship\\dcase-event-fold\\clearthroat\", f))]\n",
    "raw_sounds2 = []\n",
    "raw2=[]\n",
    "raw_sounds2=extract_features1(onlyfiles2,r\"clearthroat\",2)\n",
    "print(raw_sounds2.shape)\n"
   ]
  },
  {
   "cell_type": "code",
   "execution_count": 79,
   "metadata": {},
   "outputs": [
    {
     "name": "stdout",
     "output_type": "stream",
     "text": [
      "(20, 40, 3)\n"
     ]
    }
   ],
   "source": [
    "onlyfiles3 = [f for f in listdir(r\"C:\\internship\\dcase-event-fold\\cough\") if isfile(join(r\"C:\\internship\\dcase-event-fold\\cough\", f))]\n",
    "raw_sounds3= []\n",
    "raw3=[]\n",
    "raw_sounds3=extract_features1(onlyfiles3,r\"cough\",3)\n",
    "print(raw_sounds3.shape)"
   ]
  },
  {
   "cell_type": "code",
   "execution_count": 80,
   "metadata": {},
   "outputs": [
    {
     "name": "stdout",
     "output_type": "stream",
     "text": [
      "(20, 40, 3)\n"
     ]
    }
   ],
   "source": [
    "onlyfiles4 = [f for f in listdir(r\"C:\\internship\\dcase-event-fold\\doorslam\") if isfile(join(r\"C:\\internship\\dcase-event-fold\\doorslam\", f))]\n",
    "raw_sounds4= []\n",
    "raw_sounds4=extract_features1(onlyfiles4,r\"doorslam\",4)\n",
    "print(raw_sounds4.shape)"
   ]
  },
  {
   "cell_type": "code",
   "execution_count": 81,
   "metadata": {},
   "outputs": [
    {
     "name": "stdout",
     "output_type": "stream",
     "text": [
      "(20, 40, 3)\n"
     ]
    }
   ],
   "source": [
    "onlyfiles5 = [f for f in listdir(r\"C:\\internship\\dcase-event-fold\\drawer\") if isfile(join(r\"C:\\internship\\dcase-event-fold\\drawer\", f))]\n",
    "raw_sounds5= []\n",
    "raw_sounds5=extract_features1(onlyfiles5,r\"drawer\",5)\n",
    "print(raw_sounds5.shape)\n"
   ]
  },
  {
   "cell_type": "code",
   "execution_count": 82,
   "metadata": {},
   "outputs": [
    {
     "name": "stdout",
     "output_type": "stream",
     "text": [
      "(20, 40, 3)\n"
     ]
    }
   ],
   "source": [
    "onlyfiles6 = [f for f in listdir(r\"C:\\internship\\dcase-event-fold\\keyboard\") if isfile(join(r\"C:\\internship\\dcase-event-fold\\keyboard\", f))]\n",
    "raw_sounds6= []\n",
    "raw_sounds6=extract_features1(onlyfiles6,r\"keyboard\",6)\n",
    "print(raw_sounds6.shape)\n"
   ]
  },
  {
   "cell_type": "code",
   "execution_count": 83,
   "metadata": {},
   "outputs": [
    {
     "name": "stdout",
     "output_type": "stream",
     "text": [
      "(20, 40, 3)\n"
     ]
    }
   ],
   "source": [
    "onlyfiles7 = [f for f in listdir(r\"C:\\internship\\dcase-event-fold\\keys\") if isfile(join(r\"C:\\internship\\dcase-event-fold\\keys\", f))]\n",
    "raw_sounds7= []\n",
    "raw_sounds7=extract_features1(onlyfiles7,r\"keys\",7)\n",
    "print(raw_sounds7.shape)"
   ]
  },
  {
   "cell_type": "code",
   "execution_count": 84,
   "metadata": {},
   "outputs": [
    {
     "name": "stdout",
     "output_type": "stream",
     "text": [
      "(20, 40, 3)\n"
     ]
    }
   ],
   "source": [
    "onlyfiles8 = [f for f in listdir(r\"C:\\internship\\dcase-event-fold\\knock\") if isfile(join(r\"C:\\internship\\dcase-event-fold\\knock\", f))]\n",
    "raw_sounds8= []\n",
    "raw_sounds8=extract_features1(onlyfiles1,r\"knock\",8)\n",
    "print(raw_sounds8.shape)"
   ]
  },
  {
   "cell_type": "code",
   "execution_count": 85,
   "metadata": {},
   "outputs": [
    {
     "name": "stdout",
     "output_type": "stream",
     "text": [
      "(20, 40, 3)\n"
     ]
    }
   ],
   "source": [
    "onlyfiles9 = [f for f in listdir(r\"C:\\internship\\dcase-event-fold\\laughter\") if isfile(join(r\"C:\\internship\\dcase-event-fold\\laughter\", f))]\n",
    "raw_sounds9= []\n",
    "raw_sounds9=extract_features1(onlyfiles9,r\"laughter\",9)\n",
    "print(raw_sounds9.shape)\n",
    "\n"
   ]
  },
  {
   "cell_type": "code",
   "execution_count": 86,
   "metadata": {},
   "outputs": [
    {
     "name": "stdout",
     "output_type": "stream",
     "text": [
      "(20, 40, 3)\n"
     ]
    }
   ],
   "source": [
    "onlyfiles10 = [f for f in listdir(r\"C:\\internship\\dcase-event-fold\\mouse\") if isfile(join(r\"C:\\internship\\dcase-event-fold\\mouse\", f))]\n",
    "raw_sounds10= []\n",
    "raw_sounds10=extract_features1(onlyfiles10,r\"mouse\",10)\n",
    "print(raw_sounds10.shape)\n"
   ]
  },
  {
   "cell_type": "code",
   "execution_count": 87,
   "metadata": {},
   "outputs": [
    {
     "name": "stdout",
     "output_type": "stream",
     "text": [
      "(20, 40, 3)\n"
     ]
    }
   ],
   "source": [
    "onlyfiles11 = [f for f in listdir(r\"C:\\internship\\dcase-event-fold\\pageturn\") if isfile(join(r\"C:\\internship\\dcase-event-fold\\pageturn\", f))]\n",
    "raw_sounds11= []\n",
    "raw_sounds11=extract_features1(onlyfiles11,r\"pageturn\",11)\n",
    "print(raw_sounds11.shape)"
   ]
  },
  {
   "cell_type": "code",
   "execution_count": 88,
   "metadata": {},
   "outputs": [
    {
     "name": "stdout",
     "output_type": "stream",
     "text": [
      "(20, 40, 3)\n"
     ]
    }
   ],
   "source": [
    "onlyfiles12 = [f for f in listdir(\"C:\\internship\\dcase-event-fold\\pendrop\") if isfile(join(\"C:\\internship\\dcase-event-fold\\pendrop\", f))]\n",
    "raw_sounds12= []\n",
    "raw_sounds12=extract_features1(onlyfiles12,\"pendrop\",12)\n",
    "print(raw_sounds12.shape)"
   ]
  },
  {
   "cell_type": "code",
   "execution_count": 89,
   "metadata": {},
   "outputs": [
    {
     "name": "stdout",
     "output_type": "stream",
     "text": [
      "(20, 40, 3)\n"
     ]
    }
   ],
   "source": [
    "onlyfiles13 = [f for f in listdir(\"C:\\internship\\dcase-event-fold\\phone\") if isfile(join(\"C:\\internship\\dcase-event-fold\\phone\", f))]\n",
    "raw_sounds13= []\n",
    "raw_sounds13=extract_features1(onlyfiles13,\"phone\",13)\n",
    "print(raw_sounds13.shape)"
   ]
  },
  {
   "cell_type": "code",
   "execution_count": 90,
   "metadata": {},
   "outputs": [
    {
     "name": "stdout",
     "output_type": "stream",
     "text": [
      "(20, 40, 3)\n"
     ]
    }
   ],
   "source": [
    "onlyfiles14 = [f for f in listdir(\"C:\\internship\\dcase-event-fold\\printer\") if isfile(join(\"C:\\internship\\dcase-event-fold\\printer\", f))]\n",
    "raw_sounds14= []\n",
    "raw_sounds14=extract_features1(onlyfiles14,\"printer\",14)\n",
    "print(raw_sounds14.shape)"
   ]
  },
  {
   "cell_type": "code",
   "execution_count": 91,
   "metadata": {},
   "outputs": [
    {
     "name": "stdout",
     "output_type": "stream",
     "text": [
      "(20, 40, 3)\n"
     ]
    }
   ],
   "source": [
    "onlyfiles15 = [f for f in listdir(\"C:\\internship\\dcase-event-fold\\speech\") if isfile(join(\"C:\\internship\\dcase-event-fold\\speech\", f))]\n",
    "raw_sounds15= []\n",
    "raw_sounds15=extract_features1(onlyfiles15,\"speech\",15)\n",
    "print(raw_sounds15.shape)"
   ]
  },
  {
   "cell_type": "code",
   "execution_count": 92,
   "metadata": {},
   "outputs": [
    {
     "name": "stdout",
     "output_type": "stream",
     "text": [
      "(20, 40, 3)\n"
     ]
    }
   ],
   "source": [
    "onlyfiles16 = [f for f in listdir(\"C:\\internship\\dcase-event-fold\\switch\") if isfile(join(\"C:\\internship\\dcase-event-fold\\switch\", f))]\n",
    "raw_sounds16= []\n",
    "raw_sounds16=extract_features1(onlyfiles16,\"switch\",16)\n",
    "print(raw_sounds16.shape)"
   ]
  },
  {
   "cell_type": "code",
   "execution_count": 93,
   "metadata": {},
   "outputs": [
    {
     "name": "stdout",
     "output_type": "stream",
     "text": [
      "(64, 40, 3)\n",
      "(64, 40, 3)\n",
      "(64, 40, 3)\n",
      "(64, 40, 3)\n",
      "(64, 40, 3)\n"
     ]
    }
   ],
   "source": [
    "fold1=np.array(fold1)\n",
    "print(fold1.shape)\n",
    "fold2=np.array(fold2)\n",
    "print(fold2.shape)\n",
    "fold3=np.array(fold3)\n",
    "print(fold3.shape)\n",
    "fold4=np.array(fold4)\n",
    "print(fold4.shape)\n",
    "fold5=np.array(fold5)\n",
    "print(fold5.shape)\n"
   ]
  },
  {
   "cell_type": "code",
   "execution_count": 94,
   "metadata": {},
   "outputs": [
    {
     "name": "stdout",
     "output_type": "stream",
     "text": [
      "64\n",
      "64\n",
      "64\n",
      "64\n",
      "64\n"
     ]
    }
   ],
   "source": [
    "print(len(dataclass1))\n",
    "print(len(dataclass2))\n",
    "print(len(dataclass3))\n",
    "print(len(dataclass4))\n",
    "print(len(dataclass5))"
   ]
  },
  {
   "cell_type": "code",
   "execution_count": 95,
   "metadata": {},
   "outputs": [
    {
     "name": "stdout",
     "output_type": "stream",
     "text": [
      "(256, 40, 3)\n",
      "(256, 40, 3, 1)\n",
      "(256,)\n"
     ]
    }
   ],
   "source": [
    "train=[]\n",
    "train_x=np.vstack([fold2,fold3,fold4,fold5])\n",
    "train_x=np.array(train_x)\n",
    "train_y=dataclass2+dataclass3+dataclass4+dataclass5\n",
    "print (train_x.shape)\n",
    "train_xx=np.expand_dims((train_x),axis=3)\n",
    "print(train_xx.shape)\n",
    "train_y=np.array(train_y)\n",
    "print (train_y.shape)"
   ]
  },
  {
   "cell_type": "code",
   "execution_count": 96,
   "metadata": {},
   "outputs": [
    {
     "name": "stdout",
     "output_type": "stream",
     "text": [
      "(64, 40, 3, 1)\n"
     ]
    }
   ],
   "source": [
    "foldi=np.expand_dims((fold1),axis=3)\n",
    "print(foldi.shape)"
   ]
  },
  {
   "cell_type": "code",
   "execution_count": 97,
   "metadata": {},
   "outputs": [
    {
     "name": "stdout",
     "output_type": "stream",
     "text": [
      "(256, 16)\n"
     ]
    }
   ],
   "source": [
    "labelencoder_train=LabelEncoder()\n",
    "labelencoder_train.fit(train_y)\n",
    "data_cl=labelencoder_train.transform(train_y)\n",
    "dummy_class_train=np_utils.to_categorical(data_cl)\n",
    "print (dummy_class_train.shape)\n"
   ]
  },
  {
   "cell_type": "code",
   "execution_count": 98,
   "metadata": {},
   "outputs": [
    {
     "name": "stdout",
     "output_type": "stream",
     "text": [
      "(64, 16)\n"
     ]
    }
   ],
   "source": [
    "labelencoder_test=LabelEncoder()\n",
    "labelencoder_test.fit(dataclass1)\n",
    "data_cl=labelencoder_test.transform(dataclass1)\n",
    "dummy_class_test=np_utils.to_categorical(data_cl)\n",
    "print (dummy_class_test.shape)\n"
   ]
  },
  {
   "cell_type": "code",
   "execution_count": 99,
   "metadata": {
    "collapsed": true
   },
   "outputs": [],
   "source": [
    "model=Sequential()\n",
    "model.add(Conv2D(80, kernel_size=(1,1),activation='relu',input_shape=(40,3,1)))\n",
    "model.add(MaxPooling2D(pool_size=(1,1)))\n",
    "#model.add(Conv2D(80, kernel_size=(1,1),activation='relu'))\n",
    "#model.add(MaxPooling2D(pool_size=(1,1)))\n",
    "#model.add(Conv2D(80, kernel_size=(1,1),activation='relu'))\n",
    "#model.add(MaxPooling2D(pool_size=(1,1)))\n",
    "#model.add(Conv2D(80, kernel_size=(1,1),activation='relu'))\n",
    "#model.add(MaxPooling2D(pool_size=(1,1)))\n",
    "\n",
    "model.add(Dropout(0.25))\n",
    "model.add(Reshape((80, -1)))\n",
    "model.add(LSTM(80,activation='tanh'))\n",
    "model.add(Dropout(0.25))\n",
    "#model.add(Reshape((80, -1)))\n",
    "#model.add(LSTM(80,activation='tanh'))\n",
    "#model.add(Reshape((80, -1)))\n",
    "#model.add(LSTM(80,activation='tanh'))\n",
    "model.add(Reshape((1, -1)))\n",
    "\n",
    "model.add(Flatten())\n",
    "model.add(Dense(500,activation='relu'))\n",
    "model.add(Dropout(0.25))\n",
    "model.add(Dense(500,activation='relu'))\n",
    "model.add(Dropout(0.25))\n",
    "model.add(Dense(16,activation='sigmoid'))"
   ]
  },
  {
   "cell_type": "code",
   "execution_count": 100,
   "metadata": {
    "collapsed": true
   },
   "outputs": [],
   "source": [
    "batch_size = 1\n",
    "epochs = 10\n",
    "model.compile(optimizer='rmsprop', loss='categorical_crossentropy', metrics=['accuracy'])"
   ]
  },
  {
   "cell_type": "code",
   "execution_count": 101,
   "metadata": {
    "scrolled": false
   },
   "outputs": [
    {
     "name": "stdout",
     "output_type": "stream",
     "text": [
      "Epoch 1/10\n",
      "256/256 [==============================] - 16s 64ms/step - loss: 2.7662 - acc: 0.0586\n",
      "Epoch 2/10\n",
      "256/256 [==============================] - 15s 59ms/step - loss: 2.6514 - acc: 0.0820\n",
      "Epoch 3/10\n",
      "256/256 [==============================] - 15s 59ms/step - loss: 2.6182 - acc: 0.0977\n",
      "Epoch 4/10\n",
      "256/256 [==============================] - 15s 58ms/step - loss: 2.5860 - acc: 0.1250\n",
      "Epoch 5/10\n",
      "256/256 [==============================] - 15s 60ms/step - loss: 2.5223 - acc: 0.1172\n",
      "Epoch 6/10\n",
      "256/256 [==============================] - 16s 63ms/step - loss: 2.6093 - acc: 0.1719\n",
      "Epoch 7/10\n",
      "256/256 [==============================] - 16s 63ms/step - loss: 2.4590 - acc: 0.1914\n",
      "Epoch 8/10\n",
      "256/256 [==============================] - 16s 62ms/step - loss: 2.4733 - acc: 0.1875\n",
      "Epoch 9/10\n",
      "256/256 [==============================] - 15s 60ms/step - loss: 2.3787 - acc: 0.1992\n",
      "Epoch 10/10\n",
      "256/256 [==============================] - 15s 60ms/step - loss: 2.3000 - acc: 0.2461\n"
     ]
    }
   ],
   "source": [
    "history = model.fit(train_xx, dummy_class_train, batch_size=batch_size, epochs=epochs, verbose=1)#, validation_data=(fold5,dummy_class_test))"
   ]
  },
  {
   "cell_type": "code",
   "execution_count": 102,
   "metadata": {},
   "outputs": [
    {
     "data": {
      "text/plain": [
       "[3.167077898979187, 0.140625]"
      ]
     },
     "execution_count": 102,
     "metadata": {},
     "output_type": "execute_result"
    }
   ],
   "source": [
    "model.evaluate(foldi,dummy_class_test,verbose=0)"
   ]
  },
  {
   "cell_type": "code",
   "execution_count": null,
   "metadata": {
    "collapsed": true
   },
   "outputs": [],
   "source": []
  }
 ],
 "metadata": {
  "kernelspec": {
   "display_name": "Python 3",
   "language": "python",
   "name": "python3"
  },
  "language_info": {
   "codemirror_mode": {
    "name": "ipython",
    "version": 3
   },
   "file_extension": ".py",
   "mimetype": "text/x-python",
   "name": "python",
   "nbconvert_exporter": "python",
   "pygments_lexer": "ipython3",
   "version": "3.6.3"
  }
 },
 "nbformat": 4,
 "nbformat_minor": 2
}
